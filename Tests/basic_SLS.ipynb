{
 "cells": [
  {
   "cell_type": "markdown",
   "id": "0a73ba62-9246-4529-8ecf-ac6d8ff8ce1c",
   "metadata": {},
   "source": [
    "# Basic SLS problem\n",
    "\n",
    "This notebook deals with a basic, state-feedback and noiseless, SLS-problem using the curvilinear HCW coordinates. "
   ]
  },
  {
   "cell_type": "code",
   "execution_count": 1,
   "id": "d3ec6e09-06be-405a-b4d3-6cc4ca763d90",
   "metadata": {},
   "outputs": [
    {
     "name": "stdout",
     "output_type": "stream",
     "text": [
      "(CVXPY) Feb 23 08:20:29 PM: Encountered unexpected exception importing solver OSQP:\n",
      "ImportError('DLL load failed while importing qdldl: Kan opgegeven module niet vinden.')\n"
     ]
    }
   ],
   "source": [
    "import sys, time\n",
    "sys.path.insert(0,'C:\\\\Users\\\\fabia\\\\Documents\\\\Master\\\\Thesis\\\\Examples\\\\SLSpy')\n",
    "\n",
    "from slspy import *"
   ]
  },
  {
   "cell_type": "code",
   "execution_count": 2,
   "id": "545154cc-9f0e-4740-acb2-2fad378607c6",
   "metadata": {},
   "outputs": [],
   "source": [
    "def state_fdbk_example():\n",
    "    sys = LTI_System (\n",
    "        Nx = 10, Nw = 10\n",
    "    )\n",
    "\n",
    "    # generate sys._A, sys._B2\n",
    "    generate_doubly_stochastic_chain (\n",
    "        system_model = sys,\n",
    "        rho = 1,\n",
    "        actuator_density = 1,\n",
    "        alpha = 0.2\n",
    "    )\n",
    "    generate_BCD_and_zero_initialization(sys)\n",
    "\n",
    "    sim_horizon = 25\n",
    "    # generate noise\n",
    "    noise = FixedNoiseVector (Nw = sys._Nw, horizon = sim_horizon)\n",
    "    noise.generateNoiseFromNoiseModel (cls = ZeroNoise)\n",
    "    noise._w[0][sys._Nw//2] = 10\n",
    "\n",
    "    simulator = Simulator (\n",
    "        system = sys,\n",
    "        noise = noise,\n",
    "        horizon = sim_horizon\n",
    "    )\n",
    "\n",
    "    ## (1) basic sls (centralized controller)\n",
    "    # use SLS controller synthesis algorithm\n",
    "    synthesizer = SLS (\n",
    "        system_model = sys,\n",
    "        FIR_horizon = 20\n",
    "    )\n",
    "    # set SLS objective\n",
    "    synthesizer << SLS_Obj_H2()\n",
    "\n",
    "    # # synthesize controller (the generated controller is actually initialized)\n",
    "    # # and use the synthesized controller in simulation\n",
    "    # simulator.setController (\n",
    "    #     controller = synthesizer.synthesizeControllerModel ()\n",
    "    # )\n",
    "\n",
    "    # # run the simulation\n",
    "    # x_history, y_history, z_history, u_history, w_history = simulator.run ()\n",
    "\n",
    "    # Bu_history = matrix_list_multiplication(sys._B2,u_history)\n",
    "    # plot_heat_map(x_history, Bu_history, 'Centralized')\n",
    "\n",
    "\n",
    "    ## (2) d-localized sls\n",
    "    dlocalized = SLS_Cons_dLocalized (\n",
    "        act_delay = 1,\n",
    "        comm_speed = 2,\n",
    "        d = 3\n",
    "    )\n",
    "    synthesizer << dlocalized\n",
    "\n",
    "    tic = time.perf_counter()\n",
    "\n",
    "    for i in range(1):\n",
    "        simulator.setController (\n",
    "            controller = synthesizer.synthesizeControllerModel ()\n",
    "        )\n",
    "    toc = time.perf_counter()\n",
    "    print(f\"It took {toc - tic:0.4f} seconds!\")\n",
    "\n",
    "    x_history, y_history, z_history, u_history, w_history = simulator.run ()\n",
    "\n",
    "    Bu_history = matrix_list_multiplication(sys._B2,u_history)\n",
    "    plot_heat_map(x_history, Bu_history, 'Localized')\n",
    "\n",
    "\n",
    "    ## (3) approximate d-localized sls\n",
    "    # approx_dlocalized = SLS_Cons_ApproxdLocalized (\n",
    "    #     base = dlocalized,\n",
    "    #     rob_coeff = 10e3\n",
    "    # )\n",
    "    # approx_dlocalized._comm_speed = 1\n",
    "\n",
    "    # # set the constriant\n",
    "    # synthesizer << approx_dlocalized\n",
    "\n",
    "    # controller = synthesizer.synthesizeControllerModel ()\n",
    "    # simulator.setController (controller=controller)\n",
    "\n",
    "    # x_history, y_history, z_history, u_history, w_history = simulator.run ()\n",
    "\n",
    "    # Bu_history = matrix_list_multiplication(sys._B2,u_history)\n",
    "    # plot_heat_map(x_history, Bu_history, 'Approximately Localized')"
   ]
  },
  {
   "cell_type": "code",
   "execution_count": 3,
   "id": "f8d8ea9b-f45c-471a-8850-7f62c9e3d075",
   "metadata": {},
   "outputs": [
    {
     "name": "stdout",
     "output_type": "stream",
     "text": [
      "It took 1.3537 seconds!\n"
     ]
    },
    {
     "data": {
      "image/png": "[encoded data removed]",
      "text/plain": [
       "<Figure size 640x480 with 4 Axes>"
      ]
     },
     "metadata": {},
     "output_type": "display_data"
    }
   ],
   "source": [
    "state_fdbk_example()\n",
    "keep_showing_figures()"
   ]
  },
  {
   "cell_type": "code",
   "execution_count": null,
   "id": "afb9a04e-fa09-4f8c-a09a-c9f6b431b266",
   "metadata": {},
   "outputs": [],
   "source": []
  }
 ],
 "metadata": {
  "kernelspec": {
   "display_name": "Python 3 (ipykernel)",
   "language": "python",
   "name": "python3"
  },
  "language_info": {
   "codemirror_mode": {
    "name": "ipython",
    "version": 3
   },
   "file_extension": ".py",
   "mimetype": "text/x-python",
   "name": "python",
   "nbconvert_exporter": "python",
   "pygments_lexer": "ipython3",
   "version": "3.10.9"
  }
 },
 "nbformat": 4,
 "nbformat_minor": 5
}
